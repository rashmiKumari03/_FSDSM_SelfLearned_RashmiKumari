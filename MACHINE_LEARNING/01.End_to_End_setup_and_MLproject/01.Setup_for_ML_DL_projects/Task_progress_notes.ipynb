{
 "cells": [
  {
   "cell_type": "markdown",
   "metadata": {},
   "source": [
    "* If pip install ipykernerl not working in the terminal and doesnot getting installed properly...then firstly try to update pip using:\n",
    "pip3 install --upgrade pip\n",
    "\n",
    "-------------------------------------------------------------------------------------------------------------------------------\n",
    "\n",
    "\n",
    "* If still not working and out path is very long...very very long...then we need to enable one thing...\n",
    "* Press Window+R--->gives regedit--->OK-->It will open one tab--->Registry Editior-->open it and go to the path..\n",
    "\n",
    "Computer\\HKEY_LOCAL_MACHINE\\SYSTEM\\CurrentControlSet\\Control\\FileSystem--->Here click ongPathEnable--->Make it 1 (from 0 to 1)--->Ok \n",
    "\n",
    "Now come to terminal of gitbash in vscode and again..pip3 install --upgrade pip\n",
    "Then,\n",
    "pip install ipykernel\n",
    "\n"
   ]
  },
  {
   "cell_type": "markdown",
   "metadata": {},
   "source": [
    "![img](C:\\Users\\Admin\\Pictures\\Screenshots\\Screenshot%202023-11-29%20165936.png)"
   ]
  },
  {
   "cell_type": "code",
   "execution_count": null,
   "metadata": {},
   "outputs": [],
   "source": []
  }
 ],
 "metadata": {
  "kernelspec": {
   "display_name": "Python 3",
   "language": "python",
   "name": "python3"
  },
  "language_info": {
   "codemirror_mode": {
    "name": "ipython",
    "version": 3
   },
   "file_extension": ".py",
   "mimetype": "text/x-python",
   "name": "python",
   "nbconvert_exporter": "python",
   "pygments_lexer": "ipython3",
   "version": "3.8.18"
  }
 },
 "nbformat": 4,
 "nbformat_minor": 2
}
